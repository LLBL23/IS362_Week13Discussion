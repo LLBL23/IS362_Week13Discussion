{
 "cells": [
  {
   "cell_type": "markdown",
   "id": "a78dc492",
   "metadata": {},
   "source": [
    "# Spotify Recommendation System Analysis\n",
    "\n",
    "Spotify is currently the number one music streaming service in the world. This is largely due to their sophisticated recommender system that is superior to many of  its competitors. This analysis will use scenario design to evaluate the performance of Spotify's recommender system and suggest potential areas for improvement.\n",
    "\n",
    " \n",
    "\n",
    "## Target Users\n",
    "\n",
    "Spotify's target users are a broad and diverse group that can be categorized into three primary groups: casual listeners, dedicated listeners, and explorers and trendsetters. Spotify’s primary goal is to retain existing users while continuously gaining new users. The user’s goal is to find their favorite music and discover new genres and artists.\n",
    "\n",
    " \n",
    "\n",
    "## Operational Overview\n",
    "\n",
    "Spotify’s recommendation system likely involves a blend of content-based filtering to recommend similar tracks, deep neural networks to understand the relationship between users and music, and collaborative filtering that is partly based on what users with similar preferences like. This allows Spotify to offer relevant and engaging music across diverse user types.\n",
    "\n",
    " \n",
    "\n",
    "## Recommendations\n",
    "\n",
    "Spotify has a highly effective recommendation system but one possible area to improve its effectiveness is offering the option to add friends and share playlists with each other. This would increase engagement for users and add a social aspect to the platform.\n",
    "\n",
    "## Conclusion\n",
    "\n",
    "This analysis identified Spotify’s diverse user group and their goals. While highlighting the effectiveness of the system the analysis also identified areas for enhancement. By continuing to refine recommendation capabilities and exploring new ways to engage users Spotify can strengthen its position as the world’s leading music streaming platform. \n",
    "\n",
    "### References\n",
    "\n",
    "Gajbhiye, S. (Oct 11, 2023). Personalized Music Playlist Recommendation System. Medium.com. https://medium.com/@gajbhiyeshreya23/personalized-music-playlist-recommendation-system-776bfabd50c2\n",
    "\n",
    "Jheronimus Academy of Data Science. (Aug 25, 2023). Netflix, Spotify and the evolution of recommender algorithms. https://www.jads.nl/news/netflix-spotify-and-the-evolution-of-recommender-algorithms/\n",
    "\n",
    "Torabi, N. (Aug 28, 2023). The Inner Workings of Spotify’s AI-Powered Music Recommendations: How Spotify Shapes Your Playlist. Meduim.com. https://medium.com/beyond-the-build/the-inner-workings-of-spotifys-ai-powered-music-recommendations-how-spotify-shapes-your-playlist-a10a9148ee8d "
   ]
  }
 ],
 "metadata": {
  "kernelspec": {
   "display_name": "Python 3",
   "language": "python",
   "name": "python3"
  },
  "language_info": {
   "codemirror_mode": {
    "name": "ipython",
    "version": 3
   },
   "file_extension": ".py",
   "mimetype": "text/x-python",
   "name": "python",
   "nbconvert_exporter": "python",
   "pygments_lexer": "ipython3",
   "version": "3.8.10"
  }
 },
 "nbformat": 4,
 "nbformat_minor": 5
}
